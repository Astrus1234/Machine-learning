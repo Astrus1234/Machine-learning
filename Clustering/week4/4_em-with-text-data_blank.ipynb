{
 "cells": [
  {
   "cell_type": "markdown",
   "metadata": {},
   "source": [
    "## Fitting a diagonal covariance Gaussian mixture model to text data\n",
    "\n",
    "In a previous assignment, we explored k-means clustering for a high-dimensional Wikipedia dataset. We can also model this data with a mixture of Gaussians, though with increasing dimension we run into two important issues associated with using a full covariance matrix for each component.\n",
    " * Computational cost becomes prohibitive in high dimensions: score calculations have complexity cubic in the number of dimensions M if the Gaussian has a full covariance matrix.\n",
    " * A model with many parameters require more data: bserve that a full covariance matrix for an M-dimensional Gaussian will have M(M+1)/2 parameters to fit. With the number of parameters growing roughly as the square of the dimension, it may quickly become impossible to find a sufficient amount of data to make good inferences.\n",
    "\n",
    "Both of these issues are avoided if we require the covariance matrix of each component to be diagonal, as then it has only M parameters to fit and the score computation decomposes into M univariate score calculations. Recall from the lecture that the M-step for the full covariance is:\n",
    "\n",
    "\\begin{align*}\n",
    "\\hat{\\Sigma}_k &= \\frac{1}{N_k^{soft}} \\sum_{i=1}^N r_{ik} (x_i-\\hat{\\mu}_k)(x_i - \\hat{\\mu}_k)^T\n",
    "\\end{align*}\n",
    "\n",
    "Note that this is a square matrix with M rows and M columns, and the above equation implies that the (v, w) element is computed by\n",
    "\n",
    "\\begin{align*}\n",
    "\\hat{\\Sigma}_{k, v, w} &= \\frac{1}{N_k^{soft}} \\sum_{i=1}^N r_{ik} (x_{iv}-\\hat{\\mu}_{kv})(x_{iw} - \\hat{\\mu}_{kw})\n",
    "\\end{align*}\n",
    "\n",
    "When we assume that this is a diagonal matrix, then non-diagonal elements are assumed to be zero and we only need to compute each of the M elements along the diagonal independently using the following equation. \n",
    "\n",
    "\\begin{align*}\n",
    "\\hat{\\sigma}^2_{k, v} &= \\hat{\\Sigma}_{k, v, v}  \\\\\n",
    "&= \\frac{1}{N_k^{soft}} \\sum_{i=1}^N r_{ik} (x_{iv}-\\hat{\\mu}_{kv})^2\n",
    "\\end{align*}\n",
    "\n",
    "In this section, we will use an EM implementation to fit a Gaussian mixture model with **diagonal** covariances to a subset of the Wikipedia dataset. The implementation uses the above equation to compute each variance term. \n",
    "\n",
    "We'll begin by importing the dataset and coming up with a useful representation for each article. After running our algorithm on the data, we will explore the output to see whether we can give a meaningful interpretation to the fitted parameters in our model."
   ]
  },
  {
   "cell_type": "markdown",
   "metadata": {},
   "source": [
    "**Note to Amazon EC2 users**: To conserve memory, make sure to stop all the other notebooks before running this notebook."
   ]
  },
  {
   "cell_type": "markdown",
   "metadata": {},
   "source": [
    "## Import necessary packages"
   ]
  },
  {
   "cell_type": "code",
   "execution_count": 1,
   "metadata": {
    "collapsed": false
   },
   "outputs": [],
   "source": [
    "import graphlab"
   ]
  },
  {
   "cell_type": "markdown",
   "metadata": {},
   "source": [
    "We also have a Python file containing implementations for several functions that will be used during the course of this assignment."
   ]
  },
  {
   "cell_type": "code",
   "execution_count": 2,
   "metadata": {
    "collapsed": false
   },
   "outputs": [],
   "source": [
    "from em_utilities import *"
   ]
  },
  {
   "cell_type": "markdown",
   "metadata": {},
   "source": [
    "## Load Wikipedia data and extract TF-IDF features"
   ]
  },
  {
   "cell_type": "markdown",
   "metadata": {},
   "source": [
    "Load Wikipedia data and transform each of the first 5000 document into a TF-IDF representation."
   ]
  },
  {
   "cell_type": "code",
   "execution_count": 3,
   "metadata": {
    "collapsed": false
   },
   "outputs": [
    {
     "name": "stdout",
     "output_type": "stream",
     "text": [
      "This non-commercial license of GraphLab Create is assigned to abhishek.raj@iiitdmj.ac.in and will expire on May 23, 2017. For commercial licensing options, visit https://dato.com/buy/.\n"
     ]
    },
    {
     "name": "stderr",
     "output_type": "stream",
     "text": [
      "[INFO] graphlab.cython.cy_server: GraphLab Create v1.10.1 started. Logging: /tmp/graphlab_server_1468143225.log\n"
     ]
    }
   ],
   "source": [
    "wiki = graphlab.SFrame('people_wiki.gl/').head(5000)\n",
    "wiki['tf_idf'] = graphlab.text_analytics.tf_idf(wiki['text'])"
   ]
  },
  {
   "cell_type": "markdown",
   "metadata": {},
   "source": [
    "Using a utility we provide, we will create a sparse matrix representation of the documents. This is the same utility function you used during the previous assignment on k-means with text data."
   ]
  },
  {
   "cell_type": "code",
   "execution_count": 4,
   "metadata": {
    "collapsed": false
   },
   "outputs": [],
   "source": [
    "tf_idf, map_index_to_word = sframe_to_scipy(wiki, 'tf_idf')"
   ]
  },
  {
   "cell_type": "markdown",
   "metadata": {},
   "source": [
    "As in the previous assignment, we will normalize each document's TF-IDF vector to be a unit vector. "
   ]
  },
  {
   "cell_type": "code",
   "execution_count": 5,
   "metadata": {
    "collapsed": false
   },
   "outputs": [],
   "source": [
    "tf_idf = normalize(tf_idf)"
   ]
  },
  {
   "cell_type": "markdown",
   "metadata": {},
   "source": [
    "We can check that the length (Euclidean norm) of each row is now 1.0, as expected."
   ]
  },
  {
   "cell_type": "code",
   "execution_count": 6,
   "metadata": {
    "collapsed": false,
    "scrolled": true
   },
   "outputs": [
    {
     "name": "stdout",
     "output_type": "stream",
     "text": [
      "1.0\n",
      "1.0\n",
      "1.0\n",
      "1.0\n",
      "1.0\n"
     ]
    }
   ],
   "source": [
    "for i in range(5):\n",
    "    doc = tf_idf[i]\n",
    "    print(np.linalg.norm(doc.todense()))"
   ]
  },
  {
   "cell_type": "markdown",
   "metadata": {},
   "source": [
    "## EM in high dimensions\n",
    "\n",
    "EM for high-dimensional data requires some special treatment:\n",
    " * E step and M step must be vectorized as much as possible, as explicit loops are dreadfully slow in Python.\n",
    " * All operations must be cast in terms of sparse matrix operations, to take advantage of computational savings enabled by sparsity of data.\n",
    " * Initially, some words may be entirely absent from a cluster, causing the M step to produce zero mean and variance for those words.  This means any data point with one of those words will have 0 probability of being assigned to that cluster since the cluster allows for no variability (0 variance) around that count being 0 (0 mean). Since there is a small chance for those words to later appear in the cluster, we instead assign a small positive variance (~1e-10). Doing so also prevents numerical overflow.\n",
    " \n",
    "We provide the complete implementation for you in the file `em_utilities.py`. For those who are interested, you can read through the code to see how the sparse matrix implementation differs from the previous assignment. \n",
    "\n",
    "You are expected to answer some quiz questions using the results of clustering."
   ]
  },
  {
   "cell_type": "markdown",
   "metadata": {},
   "source": [
    "**Initializing mean parameters using k-means**\n",
    "\n",
    "Recall from the lectures that EM for Gaussian mixtures is very sensitive to the choice of initial means. With a bad initial set of means, EM may produce clusters that span a large area and are mostly overlapping. To eliminate such bad outcomes, we first produce a suitable set of initial means by using the cluster centers from running k-means.  That is, we first run k-means and then take the final set of means from the converged solution as the initial means in our EM algorithm."
   ]
  },
  {
   "cell_type": "code",
   "execution_count": 7,
   "metadata": {
    "collapsed": false
   },
   "outputs": [],
   "source": [
    "from sklearn.cluster import KMeans\n",
    "\n",
    "np.random.seed(5)\n",
    "num_clusters = 25\n",
    "\n",
    "# Use scikit-learn's k-means to simplify workflow\n",
    "kmeans_model = KMeans(n_clusters=num_clusters, n_init=5, max_iter=400, random_state=1, n_jobs=-1)\n",
    "kmeans_model.fit(tf_idf)\n",
    "centroids, cluster_assignment = kmeans_model.cluster_centers_, kmeans_model.labels_\n",
    "\n",
    "means = [centroid for centroid in centroids]"
   ]
  },
  {
   "cell_type": "code",
   "execution_count": 27,
   "metadata": {
    "collapsed": false
   },
   "outputs": [
    {
     "data": {
      "text/plain": [
       "25"
      ]
     },
     "execution_count": 27,
     "metadata": {},
     "output_type": "execute_result"
    }
   ],
   "source": [
    "len(means)"
   ]
  },
  {
   "cell_type": "markdown",
   "metadata": {},
   "source": [
    "**Initializing cluster weights**\n",
    "\n",
    "We will initialize each cluster weight to be the proportion of documents assigned to that cluster by k-means above."
   ]
  },
  {
   "cell_type": "code",
   "execution_count": 15,
   "metadata": {
    "collapsed": false
   },
   "outputs": [],
   "source": [
    "num_docs = tf_idf.shape[0]\n",
    "weights = []\n",
    "for i in xrange(num_clusters):\n",
    "    # Compute the number of data points assigned to cluster i:\n",
    "    num_assigned = np.bincount(cluster_assignment)[i] # YOUR CODE HERE\n",
    "    w = float(num_assigned) / num_docs\n",
    "    weights.append(w)"
   ]
  },
  {
   "cell_type": "code",
   "execution_count": 28,
   "metadata": {
    "collapsed": false
   },
   "outputs": [
    {
     "data": {
      "text/plain": [
       "[0.0512,\n",
       " 0.0256,\n",
       " 0.0318,\n",
       " 0.0132,\n",
       " 0.01,\n",
       " 0.0212,\n",
       " 0.0782,\n",
       " 0.0282,\n",
       " 0.1676,\n",
       " 0.017,\n",
       " 0.0196,\n",
       " 0.0526,\n",
       " 0.0266,\n",
       " 0.047,\n",
       " 0.048,\n",
       " 0.083,\n",
       " 0.0168,\n",
       " 0.0256,\n",
       " 0.0166,\n",
       " 0.0508,\n",
       " 0.0182,\n",
       " 0.0338,\n",
       " 0.014,\n",
       " 0.0688,\n",
       " 0.0346]"
      ]
     },
     "execution_count": 28,
     "metadata": {},
     "output_type": "execute_result"
    }
   ],
   "source": [
    "weights"
   ]
  },
  {
   "cell_type": "markdown",
   "metadata": {},
   "source": [
    "**Initializing covariances**\n",
    "\n",
    "To initialize our covariance parameters, we compute $\\hat{\\sigma}_{k, j}^2 = \\sum_{i=1}^{N}(x_{i,j} - \\hat{\\mu}_{k, j})^2$ for each feature $j$.  For features with really tiny variances, we assign 1e-8 instead to prevent numerical instability. We do this computation in a vectorized fashion in the following code block."
   ]
  },
  {
   "cell_type": "code",
   "execution_count": 17,
   "metadata": {
    "collapsed": false
   },
   "outputs": [],
   "source": [
    "covs = []\n",
    "for i in xrange(num_clusters):\n",
    "    member_rows = tf_idf[cluster_assignment==i]\n",
    "    cov = (member_rows.power(2) - 2*member_rows.dot(diag(means[i]))).sum(axis=0).A1 / member_rows.shape[0] \\\n",
    "          + means[i]**2\n",
    "    cov[cov < 1e-8] = 1e-8\n",
    "    covs.append(cov)"
   ]
  },
  {
   "cell_type": "markdown",
   "metadata": {},
   "source": [
    "**Running EM**\n",
    "\n",
    "Now that we have initialized all of our parameters, run EM."
   ]
  },
  {
   "cell_type": "code",
   "execution_count": 18,
   "metadata": {
    "collapsed": false,
    "scrolled": true
   },
   "outputs": [],
   "source": [
    "out = EM_for_high_dimension(tf_idf, means, covs, weights, cov_smoothing=1e-10)"
   ]
  },
  {
   "cell_type": "code",
   "execution_count": 19,
   "metadata": {
    "collapsed": false
   },
   "outputs": [
    {
     "data": {
      "text/plain": [
       "[3855847476.7012835, 4844053202.46348, 4844053202.46348]"
      ]
     },
     "execution_count": 19,
     "metadata": {},
     "output_type": "execute_result"
    }
   ],
   "source": [
    "out['loglik']"
   ]
  },
  {
   "cell_type": "code",
   "execution_count": 26,
   "metadata": {
    "collapsed": false
   },
   "outputs": [
    {
     "data": {
      "text/plain": [
       "{'covs': [array([  1.00000000e-10,   1.00000000e-10,   1.00000000e-10, ...,\n",
       "           6.54974156e-09,   2.04356034e-09,   9.30708271e-10]),\n",
       "  array([  1.00000000e-10,   1.00000000e-10,   1.00000000e-10, ...,\n",
       "           9.62690696e-09,   2.85554773e-09,   1.18857247e-09]),\n",
       "  array([  1.00000000e-10,   1.00000000e-10,   1.00000000e-10, ...,\n",
       "           9.53783719e-09,   2.87326225e-09,   9.37484239e-10]),\n",
       "  array([  1.00000000e-10,   1.00000000e-10,   1.00000000e-10, ...,\n",
       "           6.40073833e-09,   1.29138867e-09,   8.31447992e-10]),\n",
       "  array([  1.00000000e-10,   1.00000000e-10,   1.00000000e-10, ...,\n",
       "           9.24243132e-09,   1.30569398e-09,   8.54579171e-10]),\n",
       "  array([  1.00000000e-10,   1.00000000e-10,   1.00000000e-10, ...,\n",
       "           6.39109141e-09,   2.96306968e-09,   7.05369695e-10]),\n",
       "  array([  1.00000000e-10,   1.00000000e-10,   1.00000000e-10, ...,\n",
       "           7.72856339e-09,   3.03385166e-09,   1.04580156e-09]),\n",
       "  array([  1.00000000e-10,   1.00000000e-10,   1.00000000e-10, ...,\n",
       "           8.56969383e-09,   1.74573394e-09,   8.92417015e-10]),\n",
       "  array([  2.53740742e-05,   1.00000000e-10,   1.00000000e-10, ...,\n",
       "           6.30637820e-09,   2.48012290e-09,   9.88060471e-10]),\n",
       "  array([  1.00000000e-10,   1.00000000e-10,   1.00000000e-10, ...,\n",
       "           1.12329441e-08,   2.04226520e-09,   8.38106389e-10]),\n",
       "  array([  1.00000000e-10,   1.00000000e-10,   1.00000000e-10, ...,\n",
       "           8.29120992e-09,   1.61901789e-09,   1.42239294e-09]),\n",
       "  array([  1.00000000e-10,   1.00000000e-10,   1.00000000e-10, ...,\n",
       "           8.22012862e-09,   2.92486914e-09,   1.07205002e-09]),\n",
       "  array([  1.00000000e-10,   1.00000000e-10,   1.00000000e-10, ...,\n",
       "           5.17255356e-09,   3.30860769e-09,   1.04389739e-09]),\n",
       "  array([  1.00000000e-10,   1.00000000e-10,   1.00000000e-10, ...,\n",
       "           6.63507444e-09,   3.54026727e-09,   1.27859293e-09]),\n",
       "  array([  1.00000000e-10,   1.00000000e-10,   1.00000000e-10, ...,\n",
       "           1.19091752e-08,   2.89026809e-09,   1.05997780e-09]),\n",
       "  array([  1.00000000e-10,   2.24305671e-05,   1.00000000e-10, ...,\n",
       "           5.58802142e-09,   2.62378741e-09,   9.36520903e-10]),\n",
       "  array([  1.00000000e-10,   1.00000000e-10,   1.00000000e-10, ...,\n",
       "           5.82438980e-09,   1.21142614e-09,   9.65773989e-10]),\n",
       "  array([  1.00000000e-10,   1.00000000e-10,   1.00000000e-10, ...,\n",
       "           7.61409736e-09,   3.03217115e-09,   1.12186787e-09]),\n",
       "  array([  1.00000000e-10,   1.00000000e-10,   1.00000000e-10, ...,\n",
       "           4.40410237e-09,   1.55194603e-09,   7.44295337e-10]),\n",
       "  array([  1.00000000e-10,   1.00000000e-10,   1.00000000e-10, ...,\n",
       "           8.75263404e-09,   1.43081791e-09,   9.56085487e-10]),\n",
       "  array([  1.00000000e-10,   1.00000000e-10,   1.00000000e-10, ...,\n",
       "           7.89596105e-09,   3.47320419e-09,   1.13168794e-09]),\n",
       "  array([  1.00000000e-10,   1.00000000e-10,   6.07571418e-05, ...,\n",
       "           6.43601009e-09,   2.95670798e-09,   1.39956952e-09]),\n",
       "  array([  1.00000000e-10,   1.00000000e-10,   1.00000000e-10, ...,\n",
       "           5.09530879e-09,   1.31592341e-09,   8.64311494e-10]),\n",
       "  array([  1.00000000e-10,   1.00000000e-10,   1.00000000e-10, ...,\n",
       "           7.88514869e-09,   3.32681971e-09,   1.12943989e-09]),\n",
       "  array([  1.00000000e-10,   1.00000000e-10,   1.00000000e-10, ...,\n",
       "           6.98021820e-09,   1.71498892e-09,   9.14351862e-10])],\n",
       " 'loglik': [3855847476.7012835, 4844053202.46348, 4844053202.46348],\n",
       " 'means': [array([  0.00000000e+00,   0.00000000e+00,   0.00000000e+00, ...,\n",
       "           2.01954039e-04,   1.04447276e-04,   9.87192763e-05]),\n",
       "  array([  0.00000000e+00,   0.00000000e+00,   0.00000000e+00, ...,\n",
       "           1.98056588e-04,   1.43796792e-04,   8.95769954e-05]),\n",
       "  array([  0.00000000e+00,   0.00000000e+00,   0.00000000e+00, ...,\n",
       "           2.16092642e-04,   1.45670542e-04,   8.38163507e-05]),\n",
       "  array([  0.00000000e+00,   0.00000000e+00,   0.00000000e+00, ...,\n",
       "           2.13464464e-04,   1.01278436e-04,   9.25652957e-05]),\n",
       "  array([  0.00000000e+00,   0.00000000e+00,   0.00000000e+00, ...,\n",
       "           1.94720759e-04,   8.29483688e-05,   1.16312561e-04]),\n",
       "  array([  0.00000000e+00,   0.00000000e+00,   0.00000000e+00, ...,\n",
       "           2.20138346e-04,   9.94621358e-05,   9.23794738e-05]),\n",
       "  array([  0.00000000e+00,   0.00000000e+00,   0.00000000e+00, ...,\n",
       "           2.16754523e-04,   1.27676596e-04,   8.65020280e-05]),\n",
       "  array([  0.00000000e+00,   0.00000000e+00,   0.00000000e+00, ...,\n",
       "           2.69276781e-04,   8.25281851e-05,   9.35820869e-05]),\n",
       "  array([  1.74113128e-04,   0.00000000e+00,   0.00000000e+00, ...,\n",
       "           1.71902936e-04,   1.14429476e-04,   7.67297965e-05]),\n",
       "  array([  0.00000000e+00,   0.00000000e+00,   0.00000000e+00, ...,\n",
       "           2.76690425e-04,   1.31721796e-04,   8.80419609e-05]),\n",
       "  array([  0.00000000e+00,   0.00000000e+00,   0.00000000e+00, ...,\n",
       "           2.44240787e-04,   8.50124538e-05,   9.56486387e-05]),\n",
       "  array([  0.00000000e+00,   0.00000000e+00,   0.00000000e+00, ...,\n",
       "           2.00305928e-04,   1.25656165e-04,   9.29831196e-05]),\n",
       "  array([  0.00000000e+00,   0.00000000e+00,   0.00000000e+00, ...,\n",
       "           1.83282926e-04,   1.47220111e-04,   7.89853219e-05]),\n",
       "  array([  0.00000000e+00,   0.00000000e+00,   0.00000000e+00, ...,\n",
       "           2.02081480e-04,   1.47602955e-04,   9.59351504e-05]),\n",
       "  array([  0.00000000e+00,   0.00000000e+00,   0.00000000e+00, ...,\n",
       "           2.20265206e-04,   1.38994715e-04,   8.96768858e-05]),\n",
       "  array([  0.00000000e+00,   2.32765703e-04,   0.00000000e+00, ...,\n",
       "           1.63744849e-04,   1.34271391e-04,   7.60632266e-05]),\n",
       "  array([  0.00000000e+00,   0.00000000e+00,   0.00000000e+00, ...,\n",
       "           2.49105124e-04,   8.32739625e-05,   9.60564428e-05]),\n",
       "  array([  0.00000000e+00,   0.00000000e+00,   0.00000000e+00, ...,\n",
       "           1.72682496e-04,   1.35875062e-04,   7.99896524e-05]),\n",
       "  array([  0.00000000e+00,   0.00000000e+00,   0.00000000e+00, ...,\n",
       "           1.88179111e-04,   1.04754698e-04,   9.30664401e-05]),\n",
       "  array([  0.00000000e+00,   0.00000000e+00,   0.00000000e+00, ...,\n",
       "           2.52702754e-04,   8.61209384e-05,   8.49277634e-05]),\n",
       "  array([  0.00000000e+00,   0.00000000e+00,   0.00000000e+00, ...,\n",
       "           1.92064312e-04,   1.51261740e-04,   9.92517200e-05]),\n",
       "  array([  0.00000000e+00,   0.00000000e+00,   6.01372645e-04, ...,\n",
       "           2.02623936e-04,   1.11192125e-04,   9.19916839e-05]),\n",
       "  array([  0.00000000e+00,   0.00000000e+00,   0.00000000e+00, ...,\n",
       "           2.52539829e-04,   9.91611421e-05,   9.98666161e-05]),\n",
       "  array([  0.00000000e+00,   0.00000000e+00,   0.00000000e+00, ...,\n",
       "           2.00512550e-04,   1.49560114e-04,   8.74332729e-05]),\n",
       "  array([ 0.        ,  0.        ,  0.        , ...,  0.00025528,\n",
       "          0.00010363,  0.00010478])],\n",
       " 'resp': array([[ 0.,  0.,  0., ...,  1.,  0.,  0.],\n",
       "        [ 0.,  0.,  0., ...,  0.,  1.,  0.],\n",
       "        [ 0.,  0.,  0., ...,  0.,  0.,  0.],\n",
       "        ..., \n",
       "        [ 0.,  0.,  1., ...,  0.,  0.,  0.],\n",
       "        [ 0.,  0.,  1., ...,  0.,  0.,  0.],\n",
       "        [ 0.,  0.,  0., ...,  0.,  0.,  0.]]),\n",
       " 'weights': array([ 0.0512,  0.0256,  0.0318,  0.0132,  0.01  ,  0.0212,  0.0782,\n",
       "         0.0282,  0.1676,  0.017 ,  0.0196,  0.0526,  0.0266,  0.047 ,\n",
       "         0.048 ,  0.083 ,  0.0168,  0.0256,  0.0166,  0.0508,  0.0182,\n",
       "         0.0338,  0.014 ,  0.0688,  0.0346])}"
      ]
     },
     "execution_count": 26,
     "metadata": {},
     "output_type": "execute_result"
    }
   ],
   "source": [
    "out"
   ]
  },
  {
   "cell_type": "markdown",
   "metadata": {},
   "source": [
    "## Interpret clustering results"
   ]
  },
  {
   "cell_type": "markdown",
   "metadata": {},
   "source": [
    "In contrast to k-means, EM is able to explicitly model clusters of varying sizes and proportions. The relative magnitude of variances in the word dimensions tell us much about the nature of the clusters.\n",
    "\n",
    "Write yourself a cluster visualizer as follows.  Examining each cluster's mean vector, list the 5 words with the largest mean values (5 most common words in the cluster). For each word, also include the associated variance parameter (diagonal element of the covariance matrix). \n",
    "\n",
    "A sample output may be:\n",
    "```\n",
    "==========================================================\n",
    "Cluster 0: Largest mean parameters in cluster \n",
    "\n",
    "Word        Mean        Variance    \n",
    "football    1.08e-01    8.64e-03\n",
    "season      5.80e-02    2.93e-03\n",
    "club        4.48e-02    1.99e-03\n",
    "league      3.94e-02    1.08e-03\n",
    "played      3.83e-02    8.45e-04\n",
    "...\n",
    "```"
   ]
  },
  {
   "cell_type": "code",
   "execution_count": 33,
   "metadata": {
    "collapsed": false
   },
   "outputs": [],
   "source": [
    "# Fill in the blanks\n",
    "def visualize_EM_clusters(tf_idf, means, covs, map_index_to_word):\n",
    "    print('')\n",
    "    print('==========================================================')\n",
    "\n",
    "    num_clusters = len(means)\n",
    "    for c in xrange(num_clusters):\n",
    "        print('Cluster {0:d}: Largest mean parameters in cluster '.format(c))\n",
    "        print('\\n{0: <12}{1: <12}{2: <12}'.format('Word', 'Mean', 'Variance'))\n",
    "        \n",
    "        # The k'th element of sorted_word_ids should be the index of the word \n",
    "        # that has the k'th-largest value in the cluster mean. Hint: Use np.argsort().\n",
    "        sorted_word_ids = np.argsort(means[c])  # YOUR CODE HERE\n",
    "\n",
    "        for i in sorted_word_ids[:5]:\n",
    "            print '{0: <12}{1:<10.2e}{2:10.2e}'.format(map_index_to_word['category'][i], \n",
    "                                                       means[c][i],\n",
    "                                                       covs[c][i])\n",
    "        print '\\n=========================================================='"
   ]
  },
  {
   "cell_type": "code",
   "execution_count": 34,
   "metadata": {
    "collapsed": false
   },
   "outputs": [
    {
     "name": "stdout",
     "output_type": "stream",
     "text": [
      "\n",
      "==========================================================\n",
      "Cluster 0: Largest mean parameters in cluster \n",
      "\n",
      "Word        Mean        Variance    \n",
      "conflating  0.00e+00    1.00e-10\n",
      "cuestin     0.00e+00    1.00e-10\n",
      "proteccin   0.00e+00    1.00e-10\n",
      "crayonswarren0.00e+00    1.00e-10\n",
      "strothers   0.00e+00    1.00e-10\n",
      "\n",
      "==========================================================\n",
      "Cluster 1: Largest mean parameters in cluster \n",
      "\n",
      "Word        Mean        Variance    \n",
      "conflating  0.00e+00    1.00e-10\n",
      "clrnan      0.00e+00    1.00e-10\n",
      "societymustafa0.00e+00    1.00e-10\n",
      "heartpounding0.00e+00    1.00e-10\n",
      "preethi     0.00e+00    1.00e-10\n",
      "\n",
      "==========================================================\n",
      "Cluster 2: Largest mean parameters in cluster \n",
      "\n",
      "Word        Mean        Variance    \n",
      "conflating  0.00e+00    1.00e-10\n",
      "farnhams    0.00e+00    1.00e-10\n",
      "gyxa        0.00e+00    1.00e-10\n",
      "villainswhen0.00e+00    1.00e-10\n",
      "awax        0.00e+00    1.00e-10\n",
      "\n",
      "==========================================================\n",
      "Cluster 3: Largest mean parameters in cluster \n",
      "\n",
      "Word        Mean        Variance    \n",
      "conflating  0.00e+00    1.00e-10\n",
      "cantoniparrish0.00e+00    1.00e-10\n",
      "vinderhoute 0.00e+00    1.00e-10\n",
      "bumpn       0.00e+00    1.00e-10\n",
      "ferenczy    0.00e+00    1.00e-10\n",
      "\n",
      "==========================================================\n",
      "Cluster 4: Largest mean parameters in cluster \n",
      "\n",
      "Word        Mean        Variance    \n",
      "conflating  0.00e+00    1.00e-10\n",
      "gruffuddfollowing0.00e+00    1.00e-10\n",
      "seigel      0.00e+00    1.00e-10\n",
      "mobsters    0.00e+00    1.00e-10\n",
      "singlet     0.00e+00    1.00e-10\n",
      "\n",
      "==========================================================\n",
      "Cluster 5: Largest mean parameters in cluster \n",
      "\n",
      "Word        Mean        Variance    \n",
      "conflating  0.00e+00    1.00e-10\n",
      "1976upon    0.00e+00    1.00e-10\n",
      "2007one     0.00e+00    1.00e-10\n",
      "earthview   0.00e+00    1.00e-10\n",
      "5529        0.00e+00    1.00e-10\n",
      "\n",
      "==========================================================\n",
      "Cluster 6: Largest mean parameters in cluster \n",
      "\n",
      "Word        Mean        Variance    \n",
      "conflating  0.00e+00    1.00e-10\n",
      "starhis     0.00e+00    1.00e-10\n",
      "jef         0.00e+00    1.00e-10\n",
      "coachhobie  0.00e+00    1.00e-10\n",
      "curnew      0.00e+00    1.00e-10\n",
      "\n",
      "==========================================================\n",
      "Cluster 7: Largest mean parameters in cluster \n",
      "\n",
      "Word        Mean        Variance    \n",
      "conflating  0.00e+00    1.00e-10\n",
      "glickmans   0.00e+00    1.00e-10\n",
      "tombini     0.00e+00    1.00e-10\n",
      "pankina     0.00e+00    1.00e-10\n",
      "hellbilly   0.00e+00    1.00e-10\n",
      "\n",
      "==========================================================\n",
      "Cluster 8: Largest mean parameters in cluster \n",
      "\n",
      "Word        Mean        Variance    \n",
      "hodder      0.00e+00    1.00e-10\n",
      "hardcoredrum0.00e+00    1.00e-10\n",
      "attendancein0.00e+00    1.00e-10\n",
      "gabler      0.00e+00    1.00e-10\n",
      "pds         0.00e+00    1.00e-10\n",
      "\n",
      "==========================================================\n",
      "Cluster 9: Largest mean parameters in cluster \n",
      "\n",
      "Word        Mean        Variance    \n",
      "conflating  0.00e+00    1.00e-10\n",
      "phenomenain 0.00e+00    1.00e-10\n",
      "affirmation 0.00e+00    1.00e-10\n",
      "rozhok      0.00e+00    1.00e-10\n",
      "federationperhaps0.00e+00    1.00e-10\n",
      "\n",
      "==========================================================\n",
      "Cluster 10: Largest mean parameters in cluster \n",
      "\n",
      "Word        Mean        Variance    \n",
      "conflating  0.00e+00    1.00e-10\n",
      "418000      0.00e+00    1.00e-10\n",
      "neemuat     0.00e+00    1.00e-10\n",
      "clubnights  0.00e+00    1.00e-10\n",
      "qadir       0.00e+00    1.00e-10\n",
      "\n",
      "==========================================================\n",
      "Cluster 11: Largest mean parameters in cluster \n",
      "\n",
      "Word        Mean        Variance    \n",
      "conflating  0.00e+00    1.00e-10\n",
      "timpsons    0.00e+00    1.00e-10\n",
      "overheating 0.00e+00    1.00e-10\n",
      "jennyfer    0.00e+00    1.00e-10\n",
      "russogeorgian0.00e+00    1.00e-10\n",
      "\n",
      "==========================================================\n",
      "Cluster 12: Largest mean parameters in cluster \n",
      "\n",
      "Word        Mean        Variance    \n",
      "conflating  0.00e+00    1.00e-10\n",
      "tiempos     0.00e+00    1.00e-10\n",
      "lagerfeld   0.00e+00    1.00e-10\n",
      "fungicide   0.00e+00    1.00e-10\n",
      "gamesstarting0.00e+00    1.00e-10\n",
      "\n",
      "==========================================================\n",
      "Cluster 13: Largest mean parameters in cluster \n",
      "\n",
      "Word        Mean        Variance    \n",
      "conflating  0.00e+00    1.00e-10\n",
      "samplers    0.00e+00    1.00e-10\n",
      "marrakesh   0.00e+00    1.00e-10\n",
      "rac         0.00e+00    1.00e-10\n",
      "lowprofile  0.00e+00    1.00e-10\n",
      "\n",
      "==========================================================\n",
      "Cluster 14: Largest mean parameters in cluster \n",
      "\n",
      "Word        Mean        Variance    \n",
      "conflating  0.00e+00    1.00e-10\n",
      "stacys      0.00e+00    1.00e-10\n",
      "montbliard  0.00e+00    1.00e-10\n",
      "mintzer     0.00e+00    1.00e-10\n",
      "16851750    0.00e+00    1.00e-10\n",
      "\n",
      "==========================================================\n",
      "Cluster 15: Largest mean parameters in cluster \n",
      "\n",
      "Word        Mean        Variance    \n",
      "conflating  0.00e+00    1.00e-10\n",
      "franciscan  0.00e+00    1.00e-10\n",
      "h1674       0.00e+00    1.00e-10\n",
      "creatives   0.00e+00    1.00e-10\n",
      "19951996bennett0.00e+00    1.00e-10\n",
      "\n",
      "==========================================================\n",
      "Cluster 16: Largest mean parameters in cluster \n",
      "\n",
      "Word        Mean        Variance    \n",
      "conflating  0.00e+00    1.00e-10\n",
      "jointhead   0.00e+00    1.00e-10\n",
      "communitymilam0.00e+00    1.00e-10\n",
      "aino        0.00e+00    1.00e-10\n",
      "preziosi    0.00e+00    1.00e-10\n",
      "\n",
      "==========================================================\n",
      "Cluster 17: Largest mean parameters in cluster \n",
      "\n",
      "Word        Mean        Variance    \n",
      "conflating  0.00e+00    1.00e-10\n",
      "whanganui   0.00e+00    1.00e-10\n",
      "accessibleamazingenjoyable0.00e+00    1.00e-10\n",
      "electrophoresis0.00e+00    1.00e-10\n",
      "votefellow  0.00e+00    1.00e-10\n",
      "\n",
      "==========================================================\n",
      "Cluster 18: Largest mean parameters in cluster \n",
      "\n",
      "Word        Mean        Variance    \n",
      "conflating  0.00e+00    1.00e-10\n",
      "pulau       0.00e+00    1.00e-10\n",
      "longing     0.00e+00    1.00e-10\n",
      "travelogues 0.00e+00    1.00e-10\n",
      "humorless   0.00e+00    1.00e-10\n",
      "\n",
      "==========================================================\n",
      "Cluster 19: Largest mean parameters in cluster \n",
      "\n",
      "Word        Mean        Variance    \n",
      "conflating  0.00e+00    1.00e-10\n",
      "mindful     0.00e+00    1.00e-10\n",
      "zionaires   0.00e+00    1.00e-10\n",
      "2815        0.00e+00    1.00e-10\n",
      "discostubbs 0.00e+00    1.00e-10\n",
      "\n",
      "==========================================================\n",
      "Cluster 20: Largest mean parameters in cluster \n",
      "\n",
      "Word        Mean        Variance    \n",
      "conflating  0.00e+00    1.00e-10\n",
      "leftconservative0.00e+00    1.00e-10\n",
      "steganography0.00e+00    1.00e-10\n",
      "nib         0.00e+00    1.00e-10\n",
      "youthpinkwater0.00e+00    1.00e-10\n",
      "\n",
      "==========================================================\n",
      "Cluster 21: Largest mean parameters in cluster \n",
      "\n",
      "Word        Mean        Variance    \n",
      "conflating  0.00e+00    1.00e-10\n",
      "niemann     0.00e+00    1.00e-10\n",
      "cmoleads    0.00e+00    1.00e-10\n",
      "himwalker   0.00e+00    1.00e-10\n",
      "leitte      0.00e+00    1.00e-10\n",
      "\n",
      "==========================================================\n",
      "Cluster 22: Largest mean parameters in cluster \n",
      "\n",
      "Word        Mean        Variance    \n",
      "conflating  0.00e+00    1.00e-10\n",
      "roughen     0.00e+00    1.00e-10\n",
      "malzberg    0.00e+00    1.00e-10\n",
      "serviceinternational0.00e+00    1.00e-10\n",
      "ishii       0.00e+00    1.00e-10\n",
      "\n",
      "==========================================================\n",
      "Cluster 23: Largest mean parameters in cluster \n",
      "\n",
      "Word        Mean        Variance    \n",
      "conflating  0.00e+00    1.00e-10\n",
      "schulzeequally0.00e+00    1.00e-10\n",
      "enmascarado 0.00e+00    1.00e-10\n",
      "worldbloch  0.00e+00    1.00e-10\n",
      "eventziegelmeyer0.00e+00    1.00e-10\n",
      "\n",
      "==========================================================\n",
      "Cluster 24: Largest mean parameters in cluster \n",
      "\n",
      "Word        Mean        Variance    \n",
      "conflating  0.00e+00    1.00e-10\n",
      "topfree     0.00e+00    1.00e-10\n",
      "rachleff    0.00e+00    1.00e-10\n",
      "orrock      0.00e+00    1.00e-10\n",
      "toplevel    0.00e+00    1.00e-10\n",
      "\n",
      "==========================================================\n"
     ]
    }
   ],
   "source": [
    "'''By EM'''\n",
    "visualize_EM_clusters(tf_idf, out['means'], out['covs'], map_index_to_word)"
   ]
  },
  {
   "cell_type": "markdown",
   "metadata": {},
   "source": [
    "**Quiz Question**. Select all the topics that have a cluster in the model created above. [multiple choice]"
   ]
  },
  {
   "cell_type": "markdown",
   "metadata": {},
   "source": [
    "## Comparing to random initialization"
   ]
  },
  {
   "cell_type": "markdown",
   "metadata": {
    "collapsed": false
   },
   "source": [
    "Create variables for randomly initializing the EM algorithm. Complete the following code block."
   ]
  },
  {
   "cell_type": "code",
   "execution_count": 35,
   "metadata": {
    "collapsed": true
   },
   "outputs": [],
   "source": [
    "np.random.seed(5)\n",
    "num_clusters = len(means)\n",
    "num_docs, num_words = tf_idf.shape\n",
    "\n",
    "random_means = []\n",
    "random_covs = []\n",
    "random_weights = []\n",
    "\n",
    "for k in range(num_clusters):\n",
    "    \n",
    "    # Create a numpy array of length num_words with random normally distributed values.\n",
    "    # Use the standard univariate normal distribution (mean 0, variance 1).\n",
    "    # YOUR CODE HERE\n",
    "    mean =np.random.random( num_words)\n",
    "    \n",
    "    # Create a numpy array of length num_words with random values uniformly distributed between 1 and 5.\n",
    "    # YOUR CODE HERE\n",
    "    cov = np.random.random_integers(1, 5, num_words)\n",
    "\n",
    "    # Initially give each cluster equal weight.\n",
    "    # YOUR CODE HERE\n",
    "    weight = np.ones(num_words)\n",
    "    \n",
    "    random_means.append(mean)\n",
    "    random_covs.append(cov)\n",
    "    random_weights.append(weight)"
   ]
  },
  {
   "cell_type": "markdown",
   "metadata": {},
   "source": [
    "**Quiz Question**: Try fitting EM with the random initial parameters you created above. (Use `cov_smoothing=1e-5`.) Store the result to `out_random_init`. What is the final loglikelihood that the algorithm converges to? "
   ]
  },
  {
   "cell_type": "code",
   "execution_count": null,
   "metadata": {
    "collapsed": true
   },
   "outputs": [],
   "source": []
  },
  {
   "cell_type": "markdown",
   "metadata": {},
   "source": [
    "**Quiz Question:** Is the final loglikelihood larger or smaller than the final loglikelihood we obtained above when initializing EM with the results from running k-means?"
   ]
  },
  {
   "cell_type": "code",
   "execution_count": null,
   "metadata": {
    "collapsed": true
   },
   "outputs": [],
   "source": []
  },
  {
   "cell_type": "markdown",
   "metadata": {},
   "source": [
    "**Quiz Question**: For the above model, `out_random_init`, use the `visualize_EM_clusters` method you created above. Are the clusters more or less interpretable than the ones found after initializing using k-means?"
   ]
  },
  {
   "cell_type": "code",
   "execution_count": null,
   "metadata": {
    "collapsed": true
   },
   "outputs": [],
   "source": [
    "# YOUR CODE HERE. Use visualize_EM_clusters, which will require you to pass in tf_idf and map_index_to_word.\n",
    "..."
   ]
  },
  {
   "cell_type": "markdown",
   "metadata": {
    "collapsed": true
   },
   "source": [
    "## Takeaway\n",
    "\n",
    "In this assignment we were able to apply the EM algorithm to a mixture of Gaussians model of text data. This was made possible by modifying the model to assume a diagonal covariance for each cluster, and by modifying the implementation to use a sparse matrix representation. In the second part you explored the role of k-means initialization on the convergence of the model as well as the interpretability of the clusters."
   ]
  },
  {
   "cell_type": "code",
   "execution_count": null,
   "metadata": {
    "collapsed": true
   },
   "outputs": [],
   "source": []
  }
 ],
 "metadata": {
  "kernelspec": {
   "display_name": "Python 2",
   "language": "python",
   "name": "python2"
  },
  "language_info": {
   "codemirror_mode": {
    "name": "ipython",
    "version": 2
   },
   "file_extension": ".py",
   "mimetype": "text/x-python",
   "name": "python",
   "nbconvert_exporter": "python",
   "pygments_lexer": "ipython2",
   "version": "2.7.12"
  }
 },
 "nbformat": 4,
 "nbformat_minor": 0
}
